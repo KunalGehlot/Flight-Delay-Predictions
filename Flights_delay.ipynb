{
 "cells": [
  {
   "cell_type": "code",
   "execution_count": 1,
   "metadata": {},
   "outputs": [],
   "source": [
    "########################################################################\n",
    "#    June 03, 2019                                                     #\n",
    "#    09:00                                                             #\n",
    "#    Created by: Kunal Gehlot                                          #\n",
    "########################################################################"
   ]
  },
  {
   "cell_type": "code",
   "execution_count": 1,
   "metadata": {},
   "outputs": [],
   "source": [
    "import numpy as np\n",
    "import pandas as pd\n",
    "import datetime as dt\n",
    "import random\n",
    "import time\n",
    "import matplotlib.pyplot as plt\n",
    "from sklearn.linear_model import LogisticRegression\n",
    "from sklearn.model_selection import train_test_split\n",
    "from matplotlib.colors import ListedColormap\n",
    "from sklearn.metrics import confusion_matrix\n",
    "from sklearn.ensemble import RandomForestClassifier\n",
    "from sklearn.neighbors import KNeighborsClassifier\n",
    "from IPython.display import Audio, display\n",
    "from sklearn.linear_model import LinearRegression\n",
    "from sklearn.preprocessing import PolynomialFeatures\n",
    "from sklearn.metrics import mean_squared_error, r2_score\n",
    "warnings.filterwarnings(\"ignore\")\n",
    "def allDone():\n",
    "  display(Audio(url='01.wav', autoplay=True))\n"
   ]
  },
  {
   "cell_type": "code",
   "execution_count": 2,
   "metadata": {},
   "outputs": [
    {
     "name": "stderr",
     "output_type": "stream",
     "text": [
      "C:\\ProgramData\\Anaconda3\\lib\\site-packages\\IPython\\core\\interactiveshell.py:3049: DtypeWarning: Columns (7,8) have mixed types. Specify dtype option on import or set low_memory=False.\n",
      "  interactivity=interactivity, compiler=compiler, result=result)\n",
      "C:\\ProgramData\\Anaconda3\\lib\\site-packages\\pandas\\core\\indexing.py:190: SettingWithCopyWarning: \n",
      "A value is trying to be set on a copy of a slice from a DataFrame\n",
      "\n",
      "See the caveats in the documentation: http://pandas.pydata.org/pandas-docs/stable/indexing.html#indexing-view-versus-copy\n",
      "  self._setitem_with_indexer(indexer, value)\n"
     ]
    }
   ],
   "source": [
    "def cnv(src):\n",
    "    return f'{src[0:2]}:{src[2:4]}:00'\n",
    "\n",
    "flights = pd.read_csv('flights.csv',\\\n",
    "    converters={'SCHEDULED_DEPARTURE': cnv, 'DEPARTURE_TIME': cnv, 'WHEELS_OFF': cnv, 'SCHEDULED_ARRIVAL': cnv, 'WHEELS_ON': cnv, 'ARRIVAL_TIME': cnv})\n",
    "\n",
    "flights.columns\n",
    "\n",
    "# flights = flights.iloc[np.random.choice(np.arange(len(flights)), 250000, False)]\n",
    "\n",
    "flights = flights.set_index(\"CANCELLED\")\n",
    "flights = flights.drop(1, axis=0)\n",
    "\n",
    "flights = flights.set_index(\"DIVERTED\")\n",
    "flights = flights.drop(1, axis=0)\n",
    "\n",
    "flights =flights.reset_index()\n",
    "\n",
    "flights.drop(\"DIVERTED\", axis = 1, inplace=True)\n",
    "\n",
    "flights = flights.drop_duplicates()\n",
    "flights[flights.isnull().values.any(axis=1)]\n",
    "\n",
    "to_drop = ['CANCELLATION_REASON', 'AIR_SYSTEM_DELAY', 'SECURITY_DELAY', 'AIRLINE_DELAY', 'LATE_AIRCRAFT_DELAY', 'WEATHER_DELAY', 'YEAR', 'TAIL_NUMBER']\n",
    "\n",
    "flights.drop(to_drop, inplace=True, axis=1)\n",
    "\n",
    "flights.head()\n",
    "\n",
    "flights.SCHEDULED_DEPARTURE.loc[flights['SCHEDULED_DEPARTURE'] == '24:00:00'] = '00:00:00'\n",
    "\n",
    "flights.DEPARTURE_TIME.loc[flights['DEPARTURE_TIME'] == '24:00:00'] = '00:00:00'\n",
    "\n",
    "flights.WHEELS_OFF.loc[flights['WHEELS_OFF'] == '24:00:00'] = '00:00:00'\n",
    "\n",
    "flights.WHEELS_ON.loc[flights['WHEELS_ON'] == '24:00:00'] = '00:00:00'\n",
    "\n",
    "flights.SCHEDULED_ARRIVAL.loc[flights['SCHEDULED_ARRIVAL'] == '24:00:00'] = '00:00:00'\n",
    "\n",
    "flights.ARRIVAL_TIME.loc[flights['ARRIVAL_TIME'] == '24:00:00'] = '00:00:00'\n",
    "\n",
    "flights.SCHEDULED_DEPARTURE = pd.to_datetime(\n",
    "    flights.SCHEDULED_DEPARTURE, format= '%H:%M:%S' ).dt.time\n",
    "\n",
    "flights.DEPARTURE_TIME = pd.to_datetime(\n",
    "    flights.DEPARTURE_TIME, format= '%H:%M:%S' ).dt.time\n",
    "\n",
    "flights.WHEELS_OFF = pd.to_datetime(\n",
    "    flights.WHEELS_OFF, format= '%H:%M:%S' ).dt.time\n",
    "\n",
    "flights.WHEELS_ON = pd.to_datetime(\n",
    "    flights.WHEELS_ON, format= '%H:%M:%S' ).dt.time\n",
    "\n",
    "flights.SCHEDULED_ARRIVAL = pd.to_datetime(\n",
    "    flights.SCHEDULED_ARRIVAL, format= '%H:%M:%S' ).dt.time\n",
    "\n",
    "flights.ARRIVAL_TIME = pd.to_datetime(\n",
    "    flights.ARRIVAL_TIME, format= '%H:%M:%S' ).dt.time\n",
    "\n",
    "flights['SCH_DEP_HR'] = flights.SCHEDULED_DEPARTURE.apply(lambda x: x.hour)\n",
    "\n",
    "flights['SCH_DEP_MN'] = flights.SCHEDULED_DEPARTURE.apply(lambda x: x.minute)\n",
    "\n",
    "flights['DEP_TM_HR'] = flights.DEPARTURE_TIME.apply(lambda x: x.hour)\n",
    "\n",
    "flights['DEP_TM_MN'] = flights.DEPARTURE_TIME.apply(lambda x: x.minute)\n",
    "\n",
    "flights['WHL_OFF_MN'] = flights.WHEELS_OFF.apply(lambda x: x.minute)\n",
    "\n",
    "flights['WHL_OFF_HR'] = flights.WHEELS_OFF.apply(lambda x: x.hour)\n",
    "\n",
    "flights['WHL_ON_HR'] = flights.WHEELS_ON.apply(lambda x: x.hour)\n",
    "\n",
    "flights['WHL_ON_MN'] = flights.WHEELS_ON.apply(lambda x: x.minute)\n",
    "\n",
    "flights['SCH_ARVL_HR'] = flights.SCHEDULED_ARRIVAL.apply(lambda x: x.hour)\n",
    "\n",
    "flights['SCH_ARVL_MN'] = flights.SCHEDULED_ARRIVAL.apply(lambda x: x.minute)\n",
    "\n",
    "flights['ARVL_TM_HR'] = flights.ARRIVAL_TIME.apply(lambda x: x.hour)\n",
    "\n",
    "flights['ARVL_TM_MN'] = flights.ARRIVAL_TIME.apply(lambda x: x.minute)\n",
    "\n",
    "flights = flights[['MONTH', 'DAY', 'DAY_OF_WEEK', 'AIRLINE', 'FLIGHT_NUMBER', 'ORIGIN_AIRPORT'\n",
    "                   , 'DESTINATION_AIRPORT', 'SCHEDULED_DEPARTURE', 'SCH_DEP_HR', 'SCH_DEP_MN'\n",
    "                   ,'DEPARTURE_TIME', 'DEP_TM_HR', 'DEP_TM_MN', 'DEPARTURE_DELAY', 'TAXI_OUT',\n",
    "                   'WHEELS_OFF', 'WHL_OFF_HR', 'WHL_OFF_MN', 'SCHEDULED_TIME', 'ELAPSED_TIME',\n",
    "                  'AIR_TIME', 'DISTANCE', 'WHEELS_ON', 'WHL_ON_HR', 'WHL_ON_MN', 'TAXI_IN',\n",
    "                  'SCHEDULED_ARRIVAL', 'SCH_ARVL_HR', 'SCH_ARVL_MN', 'ARRIVAL_TIME', 'ARVL_TM_HR'\n",
    "                  , 'ARVL_TM_MN', 'ARRIVAL_DELAY']]\n",
    "\n",
    "to_drop2 = ['SCHEDULED_DEPARTURE', 'DEPARTURE_TIME', 'WHEELS_OFF', 'WHEELS_ON', 'SCHEDULED_ARRIVAL', 'ARRIVAL_TIME']\n",
    "\n",
    "flights.drop(to_drop2, inplace=True, axis=1)\n",
    "\n",
    "airlineDB = pd.DataFrame()\n",
    "\n",
    "airlineDB['AIRLINE'] = flights['AIRLINE'].value_counts().index\n",
    "\n",
    "flights['AIRLINE1'] = flights['AIRLINE'].apply(hash)\n",
    "\n",
    "airlineDB['AIRLINE_HASH'] = flights['AIRLINE1'].value_counts().index\n",
    "\n",
    "airlineDB.to_csv('AirlineDatabase.csv', index=False)\n",
    "\n",
    "flights['AIRLINE'] = flights['AIRLINE1']\n",
    "\n",
    "flights.drop('AIRLINE1', axis=1, inplace=True)\n",
    "\n",
    "airportDB = pd.DataFrame()\n",
    "\n",
    "airportDB['AIRPORT'] = flights['ORIGIN_AIRPORT'].value_counts().index\n",
    "\n",
    "flights['ORIGIN_AIRPORT1'] = flights['ORIGIN_AIRPORT'].apply(hash)\n",
    "\n",
    "airportDB['AIRPORT_HASH'] = flights['ORIGIN_AIRPORT1'].value_counts().index\n",
    "\n",
    "airportDB['AIRPORT'] = pd.concat([airportDB['AIRPORT'], flights['DESTINATION_AIRPORT']], ignore_index=True)\n",
    "\n",
    "flights['DESTINATION_AIRPORT1'] = flights['DESTINATION_AIRPORT'].apply(hash)\n",
    "\n",
    "airportDB['AIRPORT_HASH'] = pd.concat([airportDB['AIRPORT_HASH'], flights['DESTINATION_AIRPORT1']], ignore_index=True)\n",
    "\n",
    "airportDB.to_csv('AirportDatabase.csv', index=False)\n",
    "\n",
    "flights['ORIGIN_AIRPORT'] = flights['ORIGIN_AIRPORT1']\n",
    "\n",
    "flights['DESTINATION_AIRPORT'] = flights['DESTINATION_AIRPORT1']\n",
    "\n",
    "flights.drop(['ORIGIN_AIRPORT1', 'DESTINATION_AIRPORT1'], axis=1, inplace=True)\n",
    "\n",
    "flights.to_csv('flightsNew.csv', index=False)\n",
    "\n"
   ]
  },
  {
   "cell_type": "code",
   "execution_count": 23,
   "metadata": {},
   "outputs": [
    {
     "name": "stderr",
     "output_type": "stream",
     "text": [
      "C:\\ProgramData\\Anaconda3\\lib\\site-packages\\ipykernel_launcher.py:3: SettingWithCopyWarning: \n",
      "A value is trying to be set on a copy of a slice from a DataFrame\n",
      "\n",
      "See the caveats in the documentation: http://pandas.pydata.org/pandas-docs/stable/indexing.html#indexing-view-versus-copy\n",
      "  This is separate from the ipykernel package so we can avoid doing imports until\n",
      "C:\\ProgramData\\Anaconda3\\lib\\site-packages\\ipykernel_launcher.py:4: SettingWithCopyWarning: \n",
      "A value is trying to be set on a copy of a slice from a DataFrame\n",
      "\n",
      "See the caveats in the documentation: http://pandas.pydata.org/pandas-docs/stable/indexing.html#indexing-view-versus-copy\n",
      "  after removing the cwd from sys.path.\n"
     ]
    }
   ],
   "source": [
    "flights = pd.read_csv('flightsNew.csv')\n",
    "\n",
    "flights.ARRIVAL_DELAY[flights.ARRIVAL_DELAY < 15] = 0\n",
    "flights.ARRIVAL_DELAY[flights.ARRIVAL_DELAY >= 15] = 1\n",
    "\n",
    "X = flights\n",
    "\n",
    "flights.columns\n",
    "\n",
    "X = X.drop(['ARVL_TM_HR', 'ARVL_TM_MN', 'ARRIVAL_DELAY', 'ELAPSED_TIME', 'AIR_TIME',  'WHL_ON_HR', 'WHL_ON_MN', 'TAXI_IN', 'TAXI_OUT', 'WHL_OFF_HR',\n",
    "       'WHL_OFF_MN', 'SCHEDULED_TIME', 'DISTANCE', 'SCH_ARVL_HR',\n",
    "       'SCH_ARVL_MN'], axis = 1)"
   ]
  },
  {
   "cell_type": "code",
   "execution_count": 24,
   "metadata": {},
   "outputs": [
    {
     "data": {
      "text/plain": [
       "(5714008, 27)"
      ]
     },
     "execution_count": 24,
     "metadata": {},
     "output_type": "execute_result"
    }
   ],
   "source": [
    "flights.shape"
   ]
  },
  {
   "cell_type": "code",
   "execution_count": 25,
   "metadata": {},
   "outputs": [
    {
     "data": {
      "text/plain": [
       "Index(['MONTH', 'DAY', 'DAY_OF_WEEK', 'AIRLINE', 'FLIGHT_NUMBER',\n",
       "       'ORIGIN_AIRPORT', 'DESTINATION_AIRPORT', 'SCH_DEP_HR', 'SCH_DEP_MN',\n",
       "       'DEP_TM_HR', 'DEP_TM_MN', 'DEPARTURE_DELAY'],\n",
       "      dtype='object')"
      ]
     },
     "execution_count": 25,
     "metadata": {},
     "output_type": "execute_result"
    }
   ],
   "source": [
    "X.c"
   ]
  },
  {
   "cell_type": "code",
   "execution_count": 26,
   "metadata": {},
   "outputs": [
    {
     "data": {
      "text/plain": [
       "(5714008, 12)"
      ]
     },
     "execution_count": 26,
     "metadata": {},
     "output_type": "execute_result"
    }
   ],
   "source": [
    "X.shape"
   ]
  },
  {
   "cell_type": "code",
   "execution_count": 27,
   "metadata": {},
   "outputs": [
    {
     "data": {
      "text/plain": [
       "array([[  1.,   1.,   4., ...,  23.,  54., -11.],\n",
       "       [  1.,   1.,   4., ...,   0.,   2.,  -8.],\n",
       "       [  1.,   1.,   4., ...,   0.,  18.,  -2.],\n",
       "       ...,\n",
       "       [ 12.,  31.,   4., ...,  23.,  50.,  -9.],\n",
       "       [ 12.,  31.,   4., ...,  23.,  53.,  -6.],\n",
       "       [ 12.,  31.,   4., ...,   0.,  14.,  15.]])"
      ]
     },
     "execution_count": 27,
     "metadata": {},
     "output_type": "execute_result"
    }
   ],
   "source": [
    "X = X.values\n",
    "\n",
    "X"
   ]
  },
  {
   "cell_type": "code",
   "execution_count": 28,
   "metadata": {},
   "outputs": [
    {
     "name": "stderr",
     "output_type": "stream",
     "text": [
      "C:\\ProgramData\\Anaconda3\\lib\\site-packages\\sklearn\\ensemble\\forest.py:245: FutureWarning: The default value of n_estimators will change from 10 in version 0.20 to 100 in 0.22.\n",
      "  \"10 in version 0.20 to 100 in 0.22.\", FutureWarning)\n"
     ]
    },
    {
     "name": "stdout",
     "output_type": "stream",
     "text": [
      "Test set score: 0.9287\n",
      "Test set score: 0.9287\n"
     ]
    }
   ],
   "source": [
    "Y = flights.iloc[:,[-1]].values\n",
    "\n",
    "Y = Y.ravel()\n",
    "\n",
    "X_train, X_test, Y_train, Y_test = train_test_split(X,Y, test_size = 0.3, random_state = 0)\n",
    "\n",
    "# from sklearn.preprocessing import StandardScaler\n",
    "# sec_X = StandardScaler()\n",
    "# sec_X\n",
    "# X_train = sec_X.fit_transform(X_train)\n",
    "# X_train\n",
    "# X_test = sec_X.transform(X_test)\n",
    "# X_test\n",
    "\n",
    "classifier = RandomForestClassifier(random_state=13)#KNeighborsClassifier(n_neighbours)#KNeighborsClassifier()#LogisticRegression(random_state=0)\n",
    "\n",
    "classifier.fit(X_train, Y_train)\n",
    "\n",
    "y_pred = classifier.predict(X_test)\n",
    "\n",
    "print(\"Test set score: {:.4f}\".format(np.mean(y_pred == Y_test)))\n",
    "\n",
    "print(\"Test set score: {:.4f}\".format(classifier.score(X_test, Y_test)))"
   ]
  },
  {
   "cell_type": "code",
   "execution_count": 29,
   "metadata": {},
   "outputs": [
    {
     "name": "stdin",
     "output_type": "stream",
     "text": [
      "Enter month please:  1\n",
      "Enter day please:  1\n",
      "Enter week day please:  4\n",
      "Enter flight number please:  98\n",
      "Enter airline name please:  AS\n",
      "Enter origin airport please:  ATL\n",
      "Enter destination airport please:  SEA\n",
      "Enter scheduled departure time:  00:05\n",
      "Enter departure time:  23:54\n",
      "Enter delay:  -11\n"
     ]
    },
    {
     "name": "stdout",
     "output_type": "stream",
     "text": [
      "[[ 1.00000000e+00  1.00000000e+00  4.00000000e+00  5.22563232e+18\n",
      "   9.80000000e+01 -6.75201843e+18  3.28520185e+18  0.00000000e+00\n",
      "   5.00000000e+00  2.30000000e+01  5.40000000e+01 -1.10000000e+01]]\n",
      "Not delayed\n"
     ]
    }
   ],
   "source": [
    "# print('----------FLIGHTS DELAY PREDICTION----------')\n",
    "month = int(input(\"Enter month please: \"))\n",
    "day = int(input(\"Enter day please: \"))\n",
    "dow = int(input(\"Enter week day please: \"))\n",
    "flightnum = int(input(\"Enter flight number please: \"))\n",
    "airlinenm = input(\"Enter airline name please: \")\n",
    "Orgin = input(\"Enter origin airport please: \")\n",
    "Dest = input(\"Enter destination airport please: \")\n",
    "sch = input('Enter scheduled departure time: ')\n",
    "dep = input('Enter departure time: ')\n",
    "delay = int(input(\"Enter delay: \"))\n",
    "\n",
    "\n",
    "d = airlineDB.AIRLINE_HASH.loc[airlineDB.AIRLINE == airlinenm].item()\n",
    "f = airportDB.AIRPORT_HASH.loc[airportDB.AIRPORT == Orgin].item()\n",
    "g = airportDB.AIRPORT_HASH.loc[airportDB.AIRPORT == Dest].item()\n",
    "h = int(sch[0:2])\n",
    "i = int(sch[3:5])\n",
    "j = int(dep[0:2])\n",
    "k = int(dep[3:5])\n",
    "\n",
    "inputs = [[month, day, dow, d, flightnum, f, g, h, i, j, k, delay]]\n",
    "# inputs = inputs.values\n",
    "# inputs  = sec_X.transform(inputs)\n",
    "# inp = flights.loc\n",
    "inputs = np.asarray(inputs, dtype='float64')\n",
    "\n",
    "print(inputs)\n",
    "\n",
    "\n",
    "answer = classifier.predict(inputs)\n",
    "\n",
    "if(answer == 0):\n",
    "    print('Not delayed')\n",
    "else:\n",
    "    print('Delayed')\n",
    "\n"
   ]
  }
 ],
 "metadata": {
  "kernelspec": {
   "display_name": "Python 3",
   "language": "python",
   "name": "python3"
  },
  "language_info": {
   "codemirror_mode": {
    "name": "ipython",
    "version": 3
   },
   "file_extension": ".py",
   "mimetype": "text/x-python",
   "name": "python",
   "nbconvert_exporter": "python",
   "pygments_lexer": "ipython3",
   "version": "3.7.4"
  }
 },
 "nbformat": 4,
 "nbformat_minor": 4
}
